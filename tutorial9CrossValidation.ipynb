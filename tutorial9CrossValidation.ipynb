{
  "nbformat": 4,
  "nbformat_minor": 0,
  "metadata": {
    "colab": {
      "provenance": [],
      "authorship_tag": "ABX9TyOuUR4scne+ysJ5MnK0xZop",
      "include_colab_link": true
    },
    "kernelspec": {
      "name": "python3",
      "display_name": "Python 3"
    },
    "language_info": {
      "name": "python"
    }
  },
  "cells": [
    {
      "cell_type": "markdown",
      "metadata": {
        "id": "view-in-github",
        "colab_type": "text"
      },
      "source": [
        "<a href=\"https://colab.research.google.com/github/Gaurav0771/Ml-Tutorials/blob/main/tutorial9CrossValidation.ipynb\" target=\"_parent\"><img src=\"https://colab.research.google.com/assets/colab-badge.svg\" alt=\"Open In Colab\"/></a>"
      ]
    },
    {
      "cell_type": "code",
      "execution_count": 1,
      "metadata": {
        "colab": {
          "base_uri": "https://localhost:8080/"
        },
        "id": "duDZH4pPrlIx",
        "outputId": "6ba56d0d-bc4c-458b-cd98-39e497eef292"
      },
      "outputs": [
        {
          "output_type": "stream",
          "name": "stderr",
          "text": [
            "<ipython-input-1-de52efd945eb>:7: FutureWarning: The default value of numeric_only in DataFrame.mean is deprecated. In a future version, it will default to False. In addition, specifying 'numeric_only=None' is deprecated. Select only valid columns or specify the value of numeric_only to silence this warning.\n",
            "  df.fillna(df.mean(), inplace=True)\n"
          ]
        }
      ],
      "source": [
        "import pandas as pd\n",
        "\n",
        "# Load the dataset\n",
        "df = pd.read_csv('/content/cars_24_combined.csv')  # Replace with your dataset file path\n",
        "\n",
        "# Handle missing values by imputing with the mean\n",
        "df.fillna(df.mean(), inplace=True)\n",
        "\n",
        "# Define a threshold for high and low prices\n",
        "price_threshold = 600000  # Adjust as needed\n",
        "\n",
        "# Create a binary target variable (1 for High Price, 0 for Low Price)\n",
        "df['Price_Class'] = df['Price'].apply(lambda x: 1 if x >= price_threshold else 0)\n"
      ]
    },
    {
      "cell_type": "code",
      "source": [
        "# Select features and target variable\n",
        "X = df[['Year', 'Distance', 'Owner']]\n",
        "y = df['Price_Class']\n"
      ],
      "metadata": {
        "id": "9DiqG2Byr6U4"
      },
      "execution_count": 2,
      "outputs": []
    },
    {
      "cell_type": "code",
      "source": [
        "from sklearn.model_selection import cross_val_score\n",
        "from sklearn.linear_model import LogisticRegression\n",
        "\n",
        "# Initialize the Logistic Regression model\n",
        "model = LogisticRegression(solver='liblinear')\n",
        "\n",
        "# Perform 5-fold cross-validation and obtain accuracy scores\n",
        "accuracy_scores = cross_val_score(model, X, y, cv=5, scoring='accuracy')\n"
      ],
      "metadata": {
        "id": "2Led0hBLr-t7"
      },
      "execution_count": 3,
      "outputs": []
    },
    {
      "cell_type": "code",
      "source": [
        "import matplotlib.pyplot as plt\n",
        "\n",
        "# Plot the accuracy scores\n",
        "plt.figure(figsize=(6, 4))\n",
        "plt.bar(range(1, 6), accuracy_scores)\n",
        "plt.xlabel('Fold')\n",
        "plt.ylabel('Accuracy')\n",
        "plt.title('Cross-Validation Accuracy Scores')\n",
        "plt.show()\n",
        "\n",
        "# Calculate and display the mean accuracy score\n",
        "mean_accuracy = accuracy_scores.mean()\n",
        "print(f\"Mean Accuracy: {mean_accuracy:.2f}\")\n"
      ],
      "metadata": {
        "colab": {
          "base_uri": "https://localhost:8080/",
          "height": 427
        },
        "id": "i9V32rzpsCWi",
        "outputId": "af641de3-4530-418d-dbd0-bae65a342140"
      },
      "execution_count": 4,
      "outputs": [
        {
          "output_type": "display_data",
          "data": {
            "text/plain": [
              "<Figure size 600x400 with 1 Axes>"
            ],
            "image/png": "[encoded data removed]"
          },
          "metadata": {}
        },
        {
          "output_type": "stream",
          "name": "stdout",
          "text": [
            "Mean Accuracy: 0.63\n"
          ]
        }
      ]
    }
  ]
}